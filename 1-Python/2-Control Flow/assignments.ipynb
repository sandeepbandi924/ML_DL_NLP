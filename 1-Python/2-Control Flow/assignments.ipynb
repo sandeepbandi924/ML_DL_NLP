{
 "cells": [
  {
   "cell_type": "markdown",
   "id": "c8969bc1",
   "metadata": {},
   "source": [
    "# Module 2: Control Flow Assignments\n",
    "## Lesson 2.1: Conditional Statements"
   ]
  },
  {
   "cell_type": "markdown",
   "id": "35c83585",
   "metadata": {},
   "source": [
    "### Assignment 1: Simple if Statement\n",
    "\n",
    "Write a program that asks the user to input a number and prints whether the number is positive."
   ]
  },
  {
   "cell_type": "code",
   "execution_count": 2,
   "id": "79ae8f9c",
   "metadata": {},
   "outputs": [
    {
     "name": "stdout",
     "output_type": "stream",
     "text": [
      "5 positive\n"
     ]
    }
   ],
   "source": [
    "num = int(input('enter a number:'))\n",
    "if num>=0:\n",
    "    print(num,'positive')"
   ]
  },
  {
   "cell_type": "markdown",
   "id": "63a5124d",
   "metadata": {},
   "source": [
    "### Assignment 2: if-else Statement\n",
    "\n",
    "Write a program that asks the user to input a number and prints whether the number is positive or negative.\n"
   ]
  },
  {
   "cell_type": "code",
   "execution_count": 3,
   "id": "07bd93f6",
   "metadata": {},
   "outputs": [
    {
     "name": "stdout",
     "output_type": "stream",
     "text": [
      "-6 Negative\n"
     ]
    }
   ],
   "source": [
    "num = int(input('enter a number:'))\n",
    "if num>=0:\n",
    "    print(num,'positive')\n",
    "else:\n",
    "    print(num,'Negative')"
   ]
  },
  {
   "cell_type": "markdown",
   "id": "db17ae2d",
   "metadata": {},
   "source": [
    "\n",
    "### Assignment 3: if-elif-else Statement\n",
    "\n",
    "Write a program that asks the user to input a number and prints whether the number is positive, negative, or zero."
   ]
  },
  {
   "cell_type": "code",
   "execution_count": 4,
   "id": "bd323333",
   "metadata": {},
   "outputs": [
    {
     "name": "stdout",
     "output_type": "stream",
     "text": [
      "0 Zero\n"
     ]
    }
   ],
   "source": [
    "num = int(input('enter a number:'))\n",
    "if num>0:\n",
    "    print(num,'positive')\n",
    "elif num<0:\n",
    "    print(num,'Negative')\n",
    "else:\n",
    "    print(num,'Zero')"
   ]
  },
  {
   "cell_type": "markdown",
   "id": "ff10bcaf",
   "metadata": {},
   "source": [
    "\n",
    "### Assignment 4: Nested if Statement\n",
    "\n",
    "Write a program that asks the user to input a number and prints whether the number is positive and even, positive and odd, or negative."
   ]
  },
  {
   "cell_type": "code",
   "execution_count": 6,
   "id": "9ff30525",
   "metadata": {},
   "outputs": [
    {
     "name": "stdout",
     "output_type": "stream",
     "text": [
      "5 is Positive and Odd\n"
     ]
    }
   ],
   "source": [
    "num = int(input('enter a number:'))\n",
    "if num>0:\n",
    "    if num%2==0:\n",
    "        print(f'{num} is Positive and Even')\n",
    "    else:\n",
    "        print(f'{num} is Positive and Odd')\n",
    "else:\n",
    "    print('Number is Negative')\n"
   ]
  },
  {
   "cell_type": "markdown",
   "id": "c51f36e7",
   "metadata": {},
   "source": [
    "\n",
    "\n",
    "## Lesson 2.2: Loops\n",
    "### Assignment 5: for Loop\n",
    "\n",
    "Write a program that prints all the numbers from 1 to 10 using a for loop."
   ]
  },
  {
   "cell_type": "code",
   "execution_count": 7,
   "id": "80f93470",
   "metadata": {},
   "outputs": [
    {
     "name": "stdout",
     "output_type": "stream",
     "text": [
      "1\n",
      "2\n",
      "3\n",
      "4\n",
      "5\n",
      "6\n",
      "7\n",
      "8\n",
      "9\n",
      "10\n"
     ]
    }
   ],
   "source": [
    "for i in range(1,11):\n",
    "    print(i)"
   ]
  },
  {
   "cell_type": "markdown",
   "id": "56ce5623",
   "metadata": {},
   "source": [
    "### Assignment 6: while Loop\n",
    "\n",
    "Write a program that prints all the numbers from 1 to 10 using a while loop."
   ]
  },
  {
   "cell_type": "code",
   "execution_count": 9,
   "id": "b04c5770",
   "metadata": {},
   "outputs": [
    {
     "name": "stdout",
     "output_type": "stream",
     "text": [
      "1\n",
      "2\n",
      "3\n",
      "4\n",
      "5\n",
      "6\n",
      "7\n",
      "8\n",
      "9\n",
      "10\n"
     ]
    }
   ],
   "source": [
    "num=1\n",
    "while num<=10:\n",
    "    print(num)\n",
    "    num+=1"
   ]
  },
  {
   "cell_type": "markdown",
   "id": "ac23711e",
   "metadata": {},
   "source": [
    "### Assignment 7: Nested Loops\n",
    "\n",
    "Write a program that prints a 5x5 grid of asterisks (*) using nested loops."
   ]
  },
  {
   "cell_type": "code",
   "execution_count": 11,
   "id": "9c432235",
   "metadata": {},
   "outputs": [
    {
     "name": "stdout",
     "output_type": "stream",
     "text": [
      "* * * * * \n",
      "* * * * * \n",
      "* * * * * \n",
      "* * * * * \n",
      "* * * * * \n"
     ]
    }
   ],
   "source": [
    "for i in range(5):\n",
    "    for j in range(5):\n",
    "        print('*',end=' ')\n",
    "    print()"
   ]
  },
  {
   "cell_type": "markdown",
   "id": "0905b5c1",
   "metadata": {},
   "source": [
    "### Assignment 8: break Statement\n",
    "\n",
    "Write a program that asks the user to input numbers until they input 0. The program should print the sum of all the input numbers.\n"
   ]
  },
  {
   "cell_type": "code",
   "execution_count": 15,
   "id": "f9224dff",
   "metadata": {},
   "outputs": [
    {
     "name": "stdout",
     "output_type": "stream",
     "text": [
      "1\n",
      "2\n",
      "3\n",
      "4\n",
      "5\n",
      "The sum is 15\n"
     ]
    }
   ],
   "source": [
    "sum=0\n",
    "while True:\n",
    "    num=int(input('enter num:'))\n",
    "    if num==0:\n",
    "        break\n",
    "    else:\n",
    "        print(num)\n",
    "        sum=sum+num\n",
    "print(f'The sum is {sum}')"
   ]
  },
  {
   "cell_type": "markdown",
   "id": "6ce550b6",
   "metadata": {},
   "source": [
    "### Assignment 9: continue Statement\n",
    "\n",
    "Write a program that prints all the numbers from 1 to 10 except 5 using a for loop and continue statement.\n"
   ]
  },
  {
   "cell_type": "code",
   "execution_count": 16,
   "id": "7240bcc5",
   "metadata": {},
   "outputs": [
    {
     "name": "stdout",
     "output_type": "stream",
     "text": [
      "1\n",
      "2\n",
      "3\n",
      "4\n",
      "6\n",
      "7\n",
      "8\n",
      "9\n",
      "10\n"
     ]
    }
   ],
   "source": [
    "for i in range(1,11):\n",
    "    if i ==5:\n",
    "        continue\n",
    "    else:\n",
    "        print(i)"
   ]
  },
  {
   "cell_type": "markdown",
   "id": "d979063d",
   "metadata": {},
   "source": [
    "### Assignment 10: pass Statement\n",
    "\n",
    "Write a program that defines an empty function using the pass statement.\n"
   ]
  },
  {
   "cell_type": "code",
   "execution_count": 17,
   "id": "05180baa",
   "metadata": {},
   "outputs": [],
   "source": [
    "def empty_fun():\n",
    "    pass"
   ]
  },
  {
   "cell_type": "markdown",
   "id": "40a018ef",
   "metadata": {},
   "source": [
    "### Assignment 11: Combining Loops and Conditionals\n",
    "\n",
    "Write a program that asks the user to input a number and prints all the even numbers from 1 to that number using a for loop.\n"
   ]
  },
  {
   "cell_type": "code",
   "execution_count": 20,
   "id": "cdf8eceb",
   "metadata": {},
   "outputs": [
    {
     "name": "stdout",
     "output_type": "stream",
     "text": [
      "2 4 6 8 10 "
     ]
    }
   ],
   "source": [
    "num = int(input('Enter a number:'))\n",
    "\n",
    "for i in range(1,num+1):\n",
    "    if i%2==0:\n",
    "        print(i,end=' ')"
   ]
  },
  {
   "cell_type": "markdown",
   "id": "12d0a5af",
   "metadata": {},
   "source": [
    "### Assignment 12: Factorial Calculation\n",
    "\n",
    "Write a program that calculates the factorial of a number input by the user using a while loop.\n"
   ]
  },
  {
   "cell_type": "code",
   "execution_count": 22,
   "id": "132d615a",
   "metadata": {},
   "outputs": [
    {
     "data": {
      "text/plain": [
       "120"
      ]
     },
     "execution_count": 22,
     "metadata": {},
     "output_type": "execute_result"
    }
   ],
   "source": [
    "num = int(input('Enter a number:'))\n",
    "i=1\n",
    "sum=1\n",
    "while i<=num:\n",
    "    sum=sum*i\n",
    "    i+=1\n",
    "\n",
    "sum\n"
   ]
  },
  {
   "cell_type": "markdown",
   "id": "f9353f58",
   "metadata": {},
   "source": [
    "### Assignment 13: Sum of Digits\n",
    "\n",
    "Write a program that calculates the sum of the digits of a number input by the user using a while loop.\n"
   ]
  },
  {
   "cell_type": "code",
   "execution_count": 28,
   "id": "0432b680",
   "metadata": {},
   "outputs": [
    {
     "name": "stdout",
     "output_type": "stream",
     "text": [
      "The num is 924 and sum of digits is 15\n"
     ]
    }
   ],
   "source": [
    "num = int(input('enter a  number: '))\n",
    "st = str(num)\n",
    "sum=0\n",
    "\n",
    "for i in st:\n",
    "    a = int(i)\n",
    "    sum=sum+a\n",
    "\n",
    "print(f'The num is {num} and sum of digits is {sum}')\n"
   ]
  },
  {
   "cell_type": "markdown",
   "id": "ed3ca5b8",
   "metadata": {},
   "source": [
    "### Assignment 14: Prime Number Check\n",
    "\n",
    "Write a program that checks if a number input by the user is a prime number using a for loop.\n"
   ]
  },
  {
   "cell_type": "code",
   "execution_count": 35,
   "id": "414aa07b",
   "metadata": {},
   "outputs": [
    {
     "name": "stdout",
     "output_type": "stream",
     "text": [
      "9 is not prime\n"
     ]
    }
   ],
   "source": [
    "num = int(input('Enter a number'))\n",
    "\n",
    "for i in range(2,num):\n",
    "    if num%i==0:\n",
    "        print(f'{num} is not prime')\n",
    "        break\n",
    "else:\n",
    "    print(f'{num} is prime')\n",
    "        "
   ]
  },
  {
   "cell_type": "markdown",
   "metadata": {},
   "source": [
    "\n",
    "### Assignment 15: Fibonacci Sequence\n",
    "\n",
    "Write a program that prints the first n Fibonacci numbers, where n is input by the user."
   ]
  },
  {
   "cell_type": "code",
   "execution_count": 46,
   "id": "7dd67cee",
   "metadata": {},
   "outputs": [
    {
     "name": "stdout",
     "output_type": "stream",
     "text": [
      "0\n",
      "1\n",
      "1\n",
      "2\n",
      "3\n",
      "5\n",
      "8\n",
      "13\n",
      "21\n",
      "34\n"
     ]
    }
   ],
   "source": [
    "num = int(input('Enter a number:'))\n",
    "a=0\n",
    "b=1\n",
    "\n",
    "for i in range(0,num):\n",
    "    print(a)\n",
    "    a,b=b,a+b\n",
    "    \n",
    "\n"
   ]
  },
  {
   "cell_type": "code",
   "execution_count": 43,
   "id": "1a384c77",
   "metadata": {},
   "outputs": [
    {
     "name": "stdout",
     "output_type": "stream",
     "text": [
      "0\n",
      "1\n",
      "1\n",
      "2\n",
      "3\n",
      "5\n",
      "8\n",
      "13\n",
      "21\n",
      "34\n"
     ]
    }
   ],
   "source": [
    "n = int(input(\"Enter the number of Fibonacci numbers to print: \"))\n",
    "a, b = 0, 1\n",
    "count = 0\n",
    "while count < n:\n",
    "    print(a)\n",
    "    a, b = b, a + b\n",
    "    count += 1"
   ]
  },
  {
   "cell_type": "code",
   "execution_count": null,
   "id": "b7986fbf",
   "metadata": {},
   "outputs": [],
   "source": []
  }
 ],
 "metadata": {
  "kernelspec": {
   "display_name": "Python 3",
   "language": "python",
   "name": "python3"
  },
  "language_info": {
   "codemirror_mode": {
    "name": "ipython",
    "version": 3
   },
   "file_extension": ".py",
   "mimetype": "text/x-python",
   "name": "python",
   "nbconvert_exporter": "python",
   "pygments_lexer": "ipython3",
   "version": "3.12.0"
  }
 },
 "nbformat": 4,
 "nbformat_minor": 5
}
