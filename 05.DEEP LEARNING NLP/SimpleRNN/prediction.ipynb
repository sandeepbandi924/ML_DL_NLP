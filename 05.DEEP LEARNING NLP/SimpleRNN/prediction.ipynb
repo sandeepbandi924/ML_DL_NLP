{
 "cells": [
  {
   "cell_type": "code",
   "execution_count": 1,
   "metadata": {},
   "outputs": [],
   "source": [
    "import numpy as np\n",
    "import tensorflow as tf\n",
    "from tensorflow.keras.datasets import imdb\n",
    "from tensorflow.keras.preprocessing import sequence\n",
    "from tensorflow.keras.models import Sequential,load_model\n"
   ]
  },
  {
   "cell_type": "code",
   "execution_count": 2,
   "metadata": {},
   "outputs": [],
   "source": [
    "#Load IMDB dataset word index\n",
    "\n",
    "word_index = imdb.get_word_index()\n",
    "reverse_word_index = {value:key for key,value in word_index.items()}"
   ]
  },
  {
   "cell_type": "code",
   "execution_count": 3,
   "metadata": {},
   "outputs": [
    {
     "name": "stderr",
     "output_type": "stream",
     "text": [
      "WARNING:absl:Compiled the loaded model, but the compiled metrics have yet to be built. `model.compile_metrics` will be empty until you train or evaluate the model.\n"
     ]
    }
   ],
   "source": [
    "#Load pre-trained model with Relu activation\n",
    "\n",
    "model = load_model('model.h5')"
   ]
  },
  {
   "cell_type": "code",
   "execution_count": 4,
   "metadata": {},
   "outputs": [
    {
     "data": {
      "text/html": [
       "<pre style=\"white-space:pre;overflow-x:auto;line-height:normal;font-family:Menlo,'DejaVu Sans Mono',consolas,'Courier New',monospace\"><span style=\"font-weight: bold\">Model: \"sequential_2\"</span>\n",
       "</pre>\n"
      ],
      "text/plain": [
       "\u001b[1mModel: \"sequential_2\"\u001b[0m\n"
      ]
     },
     "metadata": {},
     "output_type": "display_data"
    },
    {
     "data": {
      "text/html": [
       "<pre style=\"white-space:pre;overflow-x:auto;line-height:normal;font-family:Menlo,'DejaVu Sans Mono',consolas,'Courier New',monospace\">┏━━━━━━━━━━━━━━━━━━━━━━━━━━━━━━━━━┳━━━━━━━━━━━━━━━━━━━━━━━━┳━━━━━━━━━━━━━━━┓\n",
       "┃<span style=\"font-weight: bold\"> Layer (type)                    </span>┃<span style=\"font-weight: bold\"> Output Shape           </span>┃<span style=\"font-weight: bold\">       Param # </span>┃\n",
       "┡━━━━━━━━━━━━━━━━━━━━━━━━━━━━━━━━━╇━━━━━━━━━━━━━━━━━━━━━━━━╇━━━━━━━━━━━━━━━┩\n",
       "│ embedding_2 (<span style=\"color: #0087ff; text-decoration-color: #0087ff\">Embedding</span>)         │ (<span style=\"color: #00af00; text-decoration-color: #00af00\">32</span>, <span style=\"color: #00af00; text-decoration-color: #00af00\">500</span>, <span style=\"color: #00af00; text-decoration-color: #00af00\">128</span>)         │     <span style=\"color: #00af00; text-decoration-color: #00af00\">1,280,000</span> │\n",
       "├─────────────────────────────────┼────────────────────────┼───────────────┤\n",
       "│ simple_rnn_2 (<span style=\"color: #0087ff; text-decoration-color: #0087ff\">SimpleRNN</span>)        │ (<span style=\"color: #00af00; text-decoration-color: #00af00\">32</span>, <span style=\"color: #00af00; text-decoration-color: #00af00\">128</span>)              │        <span style=\"color: #00af00; text-decoration-color: #00af00\">32,896</span> │\n",
       "├─────────────────────────────────┼────────────────────────┼───────────────┤\n",
       "│ dense_2 (<span style=\"color: #0087ff; text-decoration-color: #0087ff\">Dense</span>)                 │ (<span style=\"color: #00af00; text-decoration-color: #00af00\">32</span>, <span style=\"color: #00af00; text-decoration-color: #00af00\">1</span>)                │           <span style=\"color: #00af00; text-decoration-color: #00af00\">129</span> │\n",
       "└─────────────────────────────────┴────────────────────────┴───────────────┘\n",
       "</pre>\n"
      ],
      "text/plain": [
       "┏━━━━━━━━━━━━━━━━━━━━━━━━━━━━━━━━━┳━━━━━━━━━━━━━━━━━━━━━━━━┳━━━━━━━━━━━━━━━┓\n",
       "┃\u001b[1m \u001b[0m\u001b[1mLayer (type)                   \u001b[0m\u001b[1m \u001b[0m┃\u001b[1m \u001b[0m\u001b[1mOutput Shape          \u001b[0m\u001b[1m \u001b[0m┃\u001b[1m \u001b[0m\u001b[1m      Param #\u001b[0m\u001b[1m \u001b[0m┃\n",
       "┡━━━━━━━━━━━━━━━━━━━━━━━━━━━━━━━━━╇━━━━━━━━━━━━━━━━━━━━━━━━╇━━━━━━━━━━━━━━━┩\n",
       "│ embedding_2 (\u001b[38;5;33mEmbedding\u001b[0m)         │ (\u001b[38;5;34m32\u001b[0m, \u001b[38;5;34m500\u001b[0m, \u001b[38;5;34m128\u001b[0m)         │     \u001b[38;5;34m1,280,000\u001b[0m │\n",
       "├─────────────────────────────────┼────────────────────────┼───────────────┤\n",
       "│ simple_rnn_2 (\u001b[38;5;33mSimpleRNN\u001b[0m)        │ (\u001b[38;5;34m32\u001b[0m, \u001b[38;5;34m128\u001b[0m)              │        \u001b[38;5;34m32,896\u001b[0m │\n",
       "├─────────────────────────────────┼────────────────────────┼───────────────┤\n",
       "│ dense_2 (\u001b[38;5;33mDense\u001b[0m)                 │ (\u001b[38;5;34m32\u001b[0m, \u001b[38;5;34m1\u001b[0m)                │           \u001b[38;5;34m129\u001b[0m │\n",
       "└─────────────────────────────────┴────────────────────────┴───────────────┘\n"
      ]
     },
     "metadata": {},
     "output_type": "display_data"
    },
    {
     "data": {
      "text/html": [
       "<pre style=\"white-space:pre;overflow-x:auto;line-height:normal;font-family:Menlo,'DejaVu Sans Mono',consolas,'Courier New',monospace\"><span style=\"font-weight: bold\"> Total params: </span><span style=\"color: #00af00; text-decoration-color: #00af00\">1,313,027</span> (5.01 MB)\n",
       "</pre>\n"
      ],
      "text/plain": [
       "\u001b[1m Total params: \u001b[0m\u001b[38;5;34m1,313,027\u001b[0m (5.01 MB)\n"
      ]
     },
     "metadata": {},
     "output_type": "display_data"
    },
    {
     "data": {
      "text/html": [
       "<pre style=\"white-space:pre;overflow-x:auto;line-height:normal;font-family:Menlo,'DejaVu Sans Mono',consolas,'Courier New',monospace\"><span style=\"font-weight: bold\"> Trainable params: </span><span style=\"color: #00af00; text-decoration-color: #00af00\">1,313,025</span> (5.01 MB)\n",
       "</pre>\n"
      ],
      "text/plain": [
       "\u001b[1m Trainable params: \u001b[0m\u001b[38;5;34m1,313,025\u001b[0m (5.01 MB)\n"
      ]
     },
     "metadata": {},
     "output_type": "display_data"
    },
    {
     "data": {
      "text/html": [
       "<pre style=\"white-space:pre;overflow-x:auto;line-height:normal;font-family:Menlo,'DejaVu Sans Mono',consolas,'Courier New',monospace\"><span style=\"font-weight: bold\"> Non-trainable params: </span><span style=\"color: #00af00; text-decoration-color: #00af00\">0</span> (0.00 B)\n",
       "</pre>\n"
      ],
      "text/plain": [
       "\u001b[1m Non-trainable params: \u001b[0m\u001b[38;5;34m0\u001b[0m (0.00 B)\n"
      ]
     },
     "metadata": {},
     "output_type": "display_data"
    },
    {
     "data": {
      "text/html": [
       "<pre style=\"white-space:pre;overflow-x:auto;line-height:normal;font-family:Menlo,'DejaVu Sans Mono',consolas,'Courier New',monospace\"><span style=\"font-weight: bold\"> Optimizer params: </span><span style=\"color: #00af00; text-decoration-color: #00af00\">2</span> (12.00 B)\n",
       "</pre>\n"
      ],
      "text/plain": [
       "\u001b[1m Optimizer params: \u001b[0m\u001b[38;5;34m2\u001b[0m (12.00 B)\n"
      ]
     },
     "metadata": {},
     "output_type": "display_data"
    }
   ],
   "source": [
    "model.summary()"
   ]
  },
  {
   "cell_type": "code",
   "execution_count": 5,
   "metadata": {},
   "outputs": [
    {
     "data": {
      "text/plain": [
       "[array([[-0.08632749, -0.12477209,  1.2204489 , ...,  0.7430471 ,\n",
       "          0.01108522, -0.04966609],\n",
       "        [ 0.08657204, -0.00159044,  0.12435491, ...,  0.05453059,\n",
       "          0.04488394,  0.02053646],\n",
       "        [ 0.19329834, -0.02184123,  0.15213868, ...,  0.1557915 ,\n",
       "         -0.17996114, -0.19263689],\n",
       "        ...,\n",
       "        [ 0.05908137,  0.04438307,  0.02138655, ...,  0.01188841,\n",
       "         -0.04622156,  0.01964837],\n",
       "        [-0.1317068 , -0.18777959,  0.06408541, ..., -0.04776148,\n",
       "          0.15501724,  0.0945802 ],\n",
       "        [ 0.0638718 ,  0.3021259 , -0.08675686, ...,  0.01213451,\n",
       "         -0.17512515, -0.04537173]], dtype=float32),\n",
       " array([[ 0.19664188,  0.13158932, -0.01361604, ..., -0.04085285,\n",
       "         -0.03534569, -0.05722725],\n",
       "        [-0.09328169,  0.01234119, -0.04269691, ...,  0.12315303,\n",
       "          0.11083946,  0.12962948],\n",
       "        [ 0.15361226,  0.18903399, -0.01104859, ..., -0.17071202,\n",
       "          0.13372701,  0.14817555],\n",
       "        ...,\n",
       "        [-0.22004563,  0.24316296, -0.14045528, ..., -0.0452574 ,\n",
       "         -0.110977  ,  0.09380837],\n",
       "        [-0.07905882, -0.04105655,  0.0682264 , ...,  0.04427119,\n",
       "         -0.07571547,  0.03578759],\n",
       "        [-0.00823952, -0.07185686, -0.00713935, ...,  0.07547962,\n",
       "          0.09862277,  0.11581562]], dtype=float32),\n",
       " array([[ 0.0292879 , -0.17146592, -0.02033055, ..., -0.10227595,\n",
       "         -0.13761245,  0.09439175],\n",
       "        [-0.064756  ,  0.08262004,  0.01523775, ..., -0.04619804,\n",
       "          0.01737681, -0.10796846],\n",
       "        [ 0.01094347, -0.08019352, -0.02126311, ..., -0.00705482,\n",
       "          0.19402611, -0.08351637],\n",
       "        ...,\n",
       "        [-0.06560155,  0.03217217, -0.10139135, ...,  0.15788233,\n",
       "          0.08270438,  0.13610297],\n",
       "        [-0.18013792,  0.0436356 ,  0.03714572, ..., -0.10077655,\n",
       "          0.01269593, -0.1701579 ],\n",
       "        [-0.10088634, -0.06752358,  0.05571316, ...,  0.11116268,\n",
       "         -0.01355672,  0.04899915]], dtype=float32),\n",
       " array([-0.06293129,  0.12211833, -0.05669637, -0.04443105,  0.06327672,\n",
       "        -0.02507212, -0.03746855, -0.07261918, -0.02748507, -0.06847182,\n",
       "         0.04152853, -0.0736964 ,  0.07717615, -0.03503236,  0.00267403,\n",
       "        -0.10252807, -0.06817277,  0.1287011 ,  0.06717174, -0.07947648,\n",
       "        -0.0513893 , -0.11810815,  0.04987733, -0.01383265,  0.00277397,\n",
       "        -0.02470105,  0.05346579, -0.05990179, -0.04688769,  0.00620924,\n",
       "        -0.09822296,  0.01241867,  0.03417664, -0.04048826,  0.04132293,\n",
       "         0.08886395, -0.03587386,  0.01847928, -0.0544939 , -0.0739048 ,\n",
       "        -0.05389548, -0.01061719, -0.00799386,  0.0597313 , -0.06499745,\n",
       "        -0.02185988, -0.00652556, -0.06021293, -0.09467518, -0.061703  ,\n",
       "         0.05461846, -0.05812542, -0.06213881, -0.04569745,  0.02481447,\n",
       "         0.03737057,  0.07389884,  0.07833325, -0.09104218,  0.06433836,\n",
       "         0.01842207,  0.00396879, -0.02555513, -0.02156077, -0.09484324,\n",
       "        -0.01022494, -0.10201361, -0.02388096, -0.03028455,  0.10309386,\n",
       "        -0.05133424, -0.07786769,  0.00961031, -0.08395393, -0.05950077,\n",
       "         0.12062868, -0.06230846,  0.04335434,  0.03804522,  0.02045735,\n",
       "        -0.02607187,  0.03068194, -0.09650906, -0.04651053,  0.00434041,\n",
       "        -0.05476077, -0.01858395,  0.03761998, -0.0445767 , -0.0220649 ,\n",
       "         0.01406577, -0.02368646, -0.04954408,  0.11412846, -0.08771841,\n",
       "         0.09295434,  0.02087867,  0.01638341,  0.06673717, -0.05526478,\n",
       "         0.08052342, -0.07089893,  0.07133201,  0.00500961, -0.02872145,\n",
       "        -0.00749364, -0.09289058,  0.02232293,  0.00798107,  0.01672403,\n",
       "        -0.04160209, -0.01293346,  0.01422926,  0.01460681,  0.09069288,\n",
       "        -0.03522679, -0.04348882, -0.06548756, -0.01620643, -0.096794  ,\n",
       "        -0.04596171,  0.10166346, -0.0203149 , -0.06584159, -0.04872992,\n",
       "        -0.06160628,  0.01952912, -0.03229138], dtype=float32),\n",
       " array([[-0.13648549],\n",
       "        [ 0.16280825],\n",
       "        [ 0.38990527],\n",
       "        [-0.01618132],\n",
       "        [ 0.09271793],\n",
       "        [-0.03105527],\n",
       "        [ 0.27562454],\n",
       "        [ 0.882674  ],\n",
       "        [-0.34135917],\n",
       "        [ 0.2382399 ],\n",
       "        [-0.10046428],\n",
       "        [-0.29457444],\n",
       "        [ 0.1702111 ],\n",
       "        [-0.08034763],\n",
       "        [-0.1854648 ],\n",
       "        [-0.20264365],\n",
       "        [ 0.54685915],\n",
       "        [ 0.1401949 ],\n",
       "        [ 0.119623  ],\n",
       "        [ 0.16733839],\n",
       "        [-0.14631166],\n",
       "        [ 0.03448236],\n",
       "        [ 0.10077247],\n",
       "        [-0.01396454],\n",
       "        [ 0.13004138],\n",
       "        [ 0.10478865],\n",
       "        [ 0.18349594],\n",
       "        [-0.38924897],\n",
       "        [-0.09187068],\n",
       "        [-0.1358988 ],\n",
       "        [-0.00948544],\n",
       "        [ 0.0381635 ],\n",
       "        [-0.4471488 ],\n",
       "        [ 0.13380618],\n",
       "        [ 0.02804449],\n",
       "        [ 0.12051041],\n",
       "        [-0.4072079 ],\n",
       "        [-0.11662411],\n",
       "        [-0.280451  ],\n",
       "        [-0.12683946],\n",
       "        [-0.21997708],\n",
       "        [-0.17482068],\n",
       "        [ 0.1465229 ],\n",
       "        [-0.17741866],\n",
       "        [-0.4900307 ],\n",
       "        [-0.02762026],\n",
       "        [ 0.04405959],\n",
       "        [-0.09906495],\n",
       "        [-0.1667014 ],\n",
       "        [-0.8712904 ],\n",
       "        [ 0.05761547],\n",
       "        [ 0.09187503],\n",
       "        [-0.17058866],\n",
       "        [ 0.11656855],\n",
       "        [-0.1104125 ],\n",
       "        [-0.1566927 ],\n",
       "        [ 0.12166974],\n",
       "        [-0.08687637],\n",
       "        [-0.14715382],\n",
       "        [ 0.00960246],\n",
       "        [-0.09592222],\n",
       "        [ 0.0152628 ],\n",
       "        [ 0.13902445],\n",
       "        [-0.02788209],\n",
       "        [-0.20873995],\n",
       "        [-0.12814914],\n",
       "        [-0.13337669],\n",
       "        [-0.01960205],\n",
       "        [ 0.5695978 ],\n",
       "        [ 0.15098539],\n",
       "        [-0.01328971],\n",
       "        [-0.11180903],\n",
       "        [ 0.03274171],\n",
       "        [ 0.14920168],\n",
       "        [ 0.19992973],\n",
       "        [ 0.12227358],\n",
       "        [-0.06253083],\n",
       "        [-0.05177553],\n",
       "        [-0.72311145],\n",
       "        [-0.15431243],\n",
       "        [ 0.19725537],\n",
       "        [ 0.13578069],\n",
       "        [ 0.06657418],\n",
       "        [ 0.16119957],\n",
       "        [-0.04148784],\n",
       "        [-0.4066918 ],\n",
       "        [-0.12631592],\n",
       "        [-0.31667808],\n",
       "        [ 0.19936533],\n",
       "        [-0.30805948],\n",
       "        [ 0.12344503],\n",
       "        [-0.03984015],\n",
       "        [-0.5691969 ],\n",
       "        [ 0.16443953],\n",
       "        [-0.1640976 ],\n",
       "        [ 0.06832147],\n",
       "        [ 0.2694315 ],\n",
       "        [-0.34952363],\n",
       "        [ 0.1209304 ],\n",
       "        [ 0.07519293],\n",
       "        [-0.02539477],\n",
       "        [-0.10566014],\n",
       "        [-0.11866689],\n",
       "        [ 0.16324331],\n",
       "        [-0.05117738],\n",
       "        [-0.1009763 ],\n",
       "        [-0.07571047],\n",
       "        [-0.04486424],\n",
       "        [-0.16780472],\n",
       "        [-0.11318495],\n",
       "        [ 0.00999605],\n",
       "        [-0.1551312 ],\n",
       "        [-0.20856261],\n",
       "        [ 0.02484132],\n",
       "        [-0.16605785],\n",
       "        [-0.10508193],\n",
       "        [-0.05023741],\n",
       "        [ 0.33799678],\n",
       "        [-0.0456956 ],\n",
       "        [-0.2692751 ],\n",
       "        [-0.1368845 ],\n",
       "        [-0.03536427],\n",
       "        [-0.2345666 ],\n",
       "        [-0.11518955],\n",
       "        [ 0.17630342],\n",
       "        [ 0.12753695],\n",
       "        [-0.14798725],\n",
       "        [ 0.30935964]], dtype=float32),\n",
       " array([-2.000718], dtype=float32)]"
      ]
     },
     "execution_count": 5,
     "metadata": {},
     "output_type": "execute_result"
    }
   ],
   "source": [
    "model.get_weights()"
   ]
  },
  {
   "cell_type": "code",
   "execution_count": 6,
   "metadata": {},
   "outputs": [],
   "source": [
    "#Helper function \n",
    "#function to decode review\n",
    "\n",
    "def decode_review(encode_review):\n",
    "    return ' '.join([reverse_word_index.get(i-3,'?') for i in encode_review])\n",
    "\n",
    "#function to preocess user input\n",
    "def preprocess_text(text):\n",
    "    words = text.lower().split()\n",
    "    encoded_review = [word_index.get(word,2) + 3 for word in words]\n",
    "    padded_review = sequence.pad_sequences([encoded_review],maxlen=500)\n",
    "    return padded_review"
   ]
  },
  {
   "cell_type": "code",
   "execution_count": 7,
   "metadata": {},
   "outputs": [],
   "source": [
    "#prediction function\n",
    "\n",
    "def predict_sentiment(review):\n",
    "    preprocess_input = preprocess_text(review)\n",
    "\n",
    "    prediction = model.predict(preprocess_input)\n",
    "\n",
    "    sentiment = 'positive' if prediction[0][0]>0.5 else 'Negative'\n",
    "\n",
    "    return sentiment,prediction[0][0]\n"
   ]
  },
  {
   "cell_type": "code",
   "execution_count": 13,
   "metadata": {},
   "outputs": [
    {
     "name": "stdout",
     "output_type": "stream",
     "text": [
      "\u001b[1m1/1\u001b[0m \u001b[32m━━━━━━━━━━━━━━━━━━━━\u001b[0m\u001b[37m\u001b[0m \u001b[1m0s\u001b[0m 58ms/step\n",
      "Review: This movie was fantastic! The acting was graet and the plot was thrilling\n",
      "Sentiment: positive\n",
      "Prediction Score: 0.8414650559425354\n"
     ]
    }
   ],
   "source": [
    "#Example\n",
    "example_review = 'This movie was fantastic! The acting was graet and the plot was thrilling'\n",
    "sentiment,score = predict_sentiment(example_review)\n",
    "\n",
    "print(f'Review: {example_review}')\n",
    "print(f'Sentiment: {sentiment}')\n",
    "print(f'Prediction Score: {score}')"
   ]
  },
  {
   "cell_type": "code",
   "execution_count": null,
   "metadata": {},
   "outputs": [],
   "source": []
  }
 ],
 "metadata": {
  "kernelspec": {
   "display_name": "Python 3",
   "language": "python",
   "name": "python3"
  },
  "language_info": {
   "codemirror_mode": {
    "name": "ipython",
    "version": 3
   },
   "file_extension": ".py",
   "mimetype": "text/x-python",
   "name": "python",
   "nbconvert_exporter": "python",
   "pygments_lexer": "ipython3",
   "version": "3.12.0"
  }
 },
 "nbformat": 4,
 "nbformat_minor": 2
}
