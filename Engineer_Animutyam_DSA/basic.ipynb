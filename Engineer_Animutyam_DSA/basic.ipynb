{
 "cells": [
  {
   "cell_type": "code",
   "execution_count": 49,
   "metadata": {},
   "outputs": [
    {
     "name": "stdout",
     "output_type": "stream",
     "text": [
      "madam\n",
      "[5, 4, 3, 2, 1]\n",
      "True\n",
      "5 * 1 = 5\n",
      "5 * 2 = 10\n",
      "5 * 3 = 15\n",
      "5 * 4 = 20\n",
      "5 * 5 = 25\n",
      "5 * 6 = 30\n",
      "5 * 7 = 35\n",
      "5 * 8 = 40\n",
      "5 * 9 = 45\n",
      "5 * 10 = 50\n",
      "None\n"
     ]
    }
   ],
   "source": [
    "class RevString:\n",
    "    def __init__(self):\n",
    "        pass\n",
    "    def rev_string(self,s):\n",
    "        s=s.lower()\n",
    "        ans=''\n",
    "        for i in range(len(s)-1,-1,-1):\n",
    "            ans = ans+s[i]\n",
    "            ans=ans.lower()\n",
    "        return ans\n",
    "    def rev_list(self,lst):\n",
    "        lst1=[]\n",
    "        for i in range(len(lst)-1,-1,-1):\n",
    "            lst1.append(lst[i])\n",
    "        return lst1\n",
    "    \n",
    "    def palindrome(self,s):\n",
    "        return s.lower() == self.rev_string(s)\n",
    "    \n",
    "    def table(self,n):\n",
    "        for i in range(1,11):\n",
    "            print(f'{n} * {i} = {n*i}')\n",
    "        \n",
    "\n",
    "\n",
    "\n",
    "\n",
    "rev = RevString()\n",
    "print(rev.rev_string('MadaM'))\n",
    "print(rev.rev_list([1,2,3,4,5]))\n",
    "print(rev.palindrome('madam'))\n",
    "print(rev.table(5))"
   ]
  },
  {
   "cell_type": "code",
   "execution_count": 50,
   "metadata": {},
   "outputs": [
    {
     "data": {
      "text/plain": [
       "13"
      ]
     },
     "execution_count": 50,
     "metadata": {},
     "output_type": "execute_result"
    }
   ],
   "source": [
    "#leetcode 3110\n",
    "class Solution:\n",
    "    def scoreOfString(self, s: str) -> int:\n",
    "        ans = 0\n",
    "        for i in range(len(s)-1):\n",
    "            temp = abs(ord(s[i]) - ord(s[i+1]))\n",
    "            ans+=temp\n",
    "\n",
    "        return ans\n",
    "s = Solution()\n",
    "s.scoreOfString('hello')"
   ]
  },
  {
   "cell_type": "code",
   "execution_count": 54,
   "metadata": {},
   "outputs": [
    {
     "name": "stdout",
     "output_type": "stream",
     "text": [
      "1\n",
      "3\n",
      "2\n"
     ]
    }
   ],
   "source": [
    "# leet code 2011\n",
    "'''\n",
    "Input: operations = [\"--X\",\"X++\",\"X++\"]\n",
    "Output: 1\n",
    "Explanation: The operations are performed as follows:\n",
    "Initially, X = 0.\n",
    "--X: X is decremented by 1, X =  0 - 1 = -1.\n",
    "X++: X is incremented by 1, X = -1 + 1 =  0.\n",
    "X++: X is incremented by 1, X =  0 + 1 =  1.\n",
    "'''\n",
    "\n",
    "class Operation:\n",
    "    def __init__(self):\n",
    "        pass\n",
    "    def operation(self,lst):\n",
    "        x=0\n",
    "        for i in lst:\n",
    "            if i ==\"--X\" or x=='X--':\n",
    "                x=x-1\n",
    "            else:\n",
    "                x=x+1\n",
    "        return x\n",
    "\n",
    "op = Operation()\n",
    "print(op.operation([\"--X\",\"X++\",\"X++\"]))\n",
    "print(op.operation([\"++X\",\"++X\",\"X++\"]))\n",
    "print(op.operation([\"X++\",\"++X\",\"--X\",\"X--\"]))"
   ]
  },
  {
   "cell_type": "code",
   "execution_count": 56,
   "metadata": {},
   "outputs": [
    {
     "data": {
      "text/plain": [
       "'1[.]1[.]1[.]1'"
      ]
     },
     "execution_count": 56,
     "metadata": {},
     "output_type": "execute_result"
    }
   ],
   "source": [
    "#leet code 1108\n",
    "'''\n",
    "Defanging an IP Address\n",
    "\n",
    "Input: address = \"1.1.1.1\"\n",
    "Output: \"1[.]1[.]1[.]1\"\n",
    "''' \n",
    "class Solution:\n",
    "    def defangIPaddr(self, address: str) -> str:\n",
    "        ans=''\n",
    "        for i in range(len(address)):\n",
    "            ch=address[i]\n",
    "\n",
    "            if ch == '.':\n",
    "                ans=ans+'[.]'\n",
    "            else:\n",
    "                ans = ans + ch\n",
    "        return ans\n",
    "s = Solution()\n",
    "s.defangIPaddr(\"1.1.1.1\")"
   ]
  },
  {
   "cell_type": "code",
   "execution_count": 73,
   "metadata": {},
   "outputs": [
    {
     "name": "stdout",
     "output_type": "stream",
     "text": [
      "6\n"
     ]
    }
   ],
   "source": [
    "''' 2114. Maximum Number of Words Found in Sentences \n",
    "\n",
    "Input: sentences = [\"alice and bob love leetcode\", \"i think so too\", \"this is great thanks very much\"]\n",
    "Output: 6\n",
    "Explanation: \n",
    "- The first sentence, \"alice and bob love leetcode\", has 5 words in total.\n",
    "- The second sentence, \"i think so too\", has 4 words in total.\n",
    "- The third sentence, \"this is great thanks very much\", has 6 words in total.\n",
    "Thus, the maximum number of words in a single sentence comes from the third sentence, which has 6 words.\n",
    "'''\n",
    "from typing import List\n",
    "sentences = [\"alice and bob love leetcode\", \"i think so too\", \"this is great thanks very much\"]\n",
    "class Solution:\n",
    "    def __init__(self):\n",
    "        pass\n",
    "    \n",
    "    def mostWordsFound(self, sentences: List[str]) -> int:\n",
    "        ans=0\n",
    "        for i in range(len(sentences)):\n",
    "            s = sentences[i]\n",
    "            temp=1\n",
    "            for j in range(len(s)):\n",
    "                ch = s[j]\n",
    "                if ch == ' ':\n",
    "                    temp+=1\n",
    "                \n",
    "            ans = max(ans,temp)\n",
    "        print(ans)\n",
    "s = Solution()\n",
    "s.mostWordsFound(sentences=sentences)"
   ]
  },
  {
   "cell_type": "code",
   "execution_count": 74,
   "metadata": {},
   "outputs": [
    {
     "name": "stdout",
     "output_type": "stream",
     "text": [
      "* * * * * \n",
      "* * * * * \n",
      "* * * * * \n",
      "* * * * * \n",
      "* * * * * \n"
     ]
    }
   ],
   "source": [
    "r = 5\n",
    "c = 5\n",
    "for i in range(r):\n",
    "    for j in range(c):\n",
    "        print('*',end= ' ')\n",
    "    print()\n",
    "\n",
    "#last their is a space"
   ]
  },
  {
   "cell_type": "code",
   "execution_count": 90,
   "metadata": {},
   "outputs": [
    {
     "name": "stdout",
     "output_type": "stream",
     "text": [
      "* * * * * \n",
      "* * * * * \n",
      "* * * * * \n",
      "* * * * * \n",
      "* * * * * \n"
     ]
    }
   ],
   "source": [
    "r=5\n",
    "c=5\n",
    "for i in range(r):\n",
    "    for j in range(c):\n",
    "        print('*',end=' ')\n",
    "        if j!=c-1:\n",
    "            print('',end='')\n",
    "    print()"
   ]
  },
  {
   "cell_type": "code",
   "execution_count": 78,
   "metadata": {},
   "outputs": [
    {
     "name": "stdout",
     "output_type": "stream",
     "text": [
      "* _* _* _* _* \n",
      "* _* _* _* _* \n",
      "* _* _* _* _* \n",
      "* _* _* _* _* \n",
      "* _* _* _* _* \n"
     ]
    }
   ],
   "source": [
    "r=5\n",
    "c=5\n",
    "for i in range(r):\n",
    "    for j in range(c):\n",
    "        print('*',end=' ')\n",
    "        if j!=c-1:\n",
    "            print('_',end='')\n",
    "    print()"
   ]
  },
  {
   "cell_type": "code",
   "execution_count": 80,
   "metadata": {},
   "outputs": [
    {
     "name": "stdout",
     "output_type": "stream",
     "text": [
      "* _* _* _* _* _* _* _* _* _* _* _* _* _* _* _* _* _* _* _* \n",
      "* _* _* _* _* _* _* _* _* _* _* _* _* _* _* _* _* _* _* _* \n",
      "* _* _* _* _* _* _* _* _* _* _* _* _* _* _* _* _* _* _* _* \n"
     ]
    }
   ],
   "source": [
    "r = 3\n",
    "c = 20\n",
    "\n",
    "for i in range(r):\n",
    "    for j in range(c):\n",
    "        print('*',end=' ')\n",
    "        if j != c-1:\n",
    "            print('_',end='')\n",
    "    print()"
   ]
  },
  {
   "cell_type": "code",
   "execution_count": 87,
   "metadata": {},
   "outputs": [
    {
     "name": "stdout",
     "output_type": "stream",
     "text": [
      "* _* _* \n",
      "* _* _* \n",
      "* _* _* \n",
      "* _* _* \n",
      "* _* _* \n",
      "* _* _* \n",
      "* _* _* \n",
      "* _* _* \n",
      "* _* _* \n",
      "* _* _* \n",
      "* _* _* \n",
      "* _* _* \n",
      "* _* _* \n",
      "* _* _* \n",
      "* _* _* \n"
     ]
    }
   ],
   "source": [
    "r = 15\n",
    "c = 3\n",
    "\n",
    "for i in range(r):\n",
    "    for j in range(c):\n",
    "        print('*',end=' ')\n",
    "        if j!= c-1:\n",
    "            print('_',end='')\n",
    "    print()"
   ]
  },
  {
   "cell_type": "code",
   "execution_count": 117,
   "metadata": {},
   "outputs": [
    {
     "name": "stdout",
     "output_type": "stream",
     "text": [
      "* * * *\n",
      "*     *\n",
      "*     *\n",
      "*     *\n",
      "* * * *\n"
     ]
    }
   ],
   "source": [
    "r = 5\n",
    "c = 4\n",
    "\n",
    "for i in range(r):\n",
    "    for j in range(c):\n",
    "        if i==0 or i==r-1 or j==0 or j==c-1:\n",
    "            print('*',end='')\n",
    "        else:\n",
    "            print(' ',end='')\n",
    "        if j!= c-1:\n",
    "            print(' ',end='')\n",
    "    print()"
   ]
  },
  {
   "cell_type": "code",
   "execution_count": 123,
   "metadata": {},
   "outputs": [
    {
     "name": "stdout",
     "output_type": "stream",
     "text": [
      "****************************************\n",
      "*                                      *\n",
      "*                                      *\n",
      "****************************************\n"
     ]
    }
   ],
   "source": [
    "r = 4\n",
    "c = 40\n",
    "\n",
    "for i in range(r):\n",
    "    for j in range(c):\n",
    "        if i==0 or i==r-1 or j==0 or j==c-1:\n",
    "            print('*',end='')\n",
    "        else:\n",
    "            print(' ',end='')\n",
    "        if j!=c-1:\n",
    "            print('',end='')\n",
    "    print()\n"
   ]
  },
  {
   "cell_type": "code",
   "execution_count": null,
   "metadata": {},
   "outputs": [],
   "source": []
  }
 ],
 "metadata": {
  "kernelspec": {
   "display_name": "Python 3",
   "language": "python",
   "name": "python3"
  },
  "language_info": {
   "codemirror_mode": {
    "name": "ipython",
    "version": 3
   },
   "file_extension": ".py",
   "mimetype": "text/x-python",
   "name": "python",
   "nbconvert_exporter": "python",
   "pygments_lexer": "ipython3",
   "version": "3.12.0"
  }
 },
 "nbformat": 4,
 "nbformat_minor": 2
}
