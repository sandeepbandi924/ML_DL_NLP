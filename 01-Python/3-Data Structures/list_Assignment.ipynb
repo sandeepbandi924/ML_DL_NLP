{
 "cells": [
  {
   "cell_type": "markdown",
   "id": "b4cc6c0c",
   "metadata": {},
   "source": [
    "# Module 3: Data Structures Assignments\n",
    "## Lesson 3.1: Lists"
   ]
  },
  {
   "cell_type": "markdown",
   "id": "e6694003",
   "metadata": {},
   "source": [
    "\n",
    "### Assignment 1: Creating and Accessing Lists\n",
    "\n",
    "Create a list of the first 20 positive integers. Print the list."
   ]
  },
  {
   "cell_type": "code",
   "execution_count": 1,
   "id": "1d2c52e2",
   "metadata": {},
   "outputs": [
    {
     "name": "stdout",
     "output_type": "stream",
     "text": [
      "[1, 2, 3, 4, 5, 6, 7, 8, 9, 10, 11, 12, 13, 14, 15, 16, 17, 18, 19, 20]\n"
     ]
    }
   ],
   "source": [
    "lst = list(range(1,21))\n",
    "print(lst)"
   ]
  },
  {
   "cell_type": "markdown",
   "id": "e126e2f3",
   "metadata": {},
   "source": [
    "\n",
    "### Assignment 2: Accessing List Elements\n",
    "\n",
    "Print the first, middle, and last elements of the list created in Assignment 1.\n"
   ]
  },
  {
   "cell_type": "code",
   "execution_count": 2,
   "id": "bfd43471",
   "metadata": {},
   "outputs": [
    {
     "name": "stdout",
     "output_type": "stream",
     "text": [
      "1\n",
      "10\n",
      "20\n"
     ]
    }
   ],
   "source": [
    "print(lst[0])\n",
    "print(len(lst)//2)\n",
    "print(lst[-1])"
   ]
  },
  {
   "cell_type": "markdown",
   "id": "d50c2f54",
   "metadata": {},
   "source": [
    "### Assignment 3: List Slicing\n",
    "\n",
    "Print the first five elements, the last five elements, and the elements from index 5 to 15 of the list created in Assignment 1.\n"
   ]
  },
  {
   "cell_type": "code",
   "execution_count": 11,
   "id": "2c1a61e0",
   "metadata": {},
   "outputs": [
    {
     "name": "stdout",
     "output_type": "stream",
     "text": [
      "[1, 2, 3, 4, 5]\n",
      "[16, 17, 18, 19, 20]\n",
      "[6, 7, 8, 9, 10, 11, 12, 13, 14, 15]\n"
     ]
    }
   ],
   "source": [
    "print(lst[:5])\n",
    "print(lst[-5:])\n",
    "print(lst[5:15])"
   ]
  },
  {
   "cell_type": "markdown",
   "id": "95e946bc",
   "metadata": {},
   "source": [
    "### Assignment 4: List Comprehensions\n",
    "\n",
    "Create a new list containing the squares of the first 10 positive integers using a list comprehension. Print the new list.\n"
   ]
  },
  {
   "cell_type": "code",
   "execution_count": 13,
   "id": "33ed1971",
   "metadata": {},
   "outputs": [
    {
     "data": {
      "text/plain": [
       "[1, 4, 9, 16, 25, 36, 49, 64, 81, 100]"
      ]
     },
     "execution_count": 13,
     "metadata": {},
     "output_type": "execute_result"
    }
   ],
   "source": [
    "[i**2 for i in range(1,11)]"
   ]
  },
  {
   "cell_type": "markdown",
   "id": "df96d841",
   "metadata": {},
   "source": [
    "### Assignment 5: Filtering Lists\n",
    "\n",
    "Create a new list containing only the even numbers from the list created in Assignment 1 using a list comprehension. Print the new list.\n"
   ]
  },
  {
   "cell_type": "code",
   "execution_count": 17,
   "id": "9e487b88",
   "metadata": {},
   "outputs": [
    {
     "data": {
      "text/plain": [
       "[2, 4, 6, 8, 10, 12, 14, 16, 18, 20]"
      ]
     },
     "execution_count": 17,
     "metadata": {},
     "output_type": "execute_result"
    }
   ],
   "source": [
    "[i for i in lst if i%2==0]\n",
    "#or\n",
    "list(filter(lambda x:x%2==0,lst))"
   ]
  },
  {
   "cell_type": "markdown",
   "id": "128fdc3f",
   "metadata": {},
   "source": [
    "### Assignment 6: List Methods\n",
    "\n",
    "Create a list of random numbers and sort it in ascending and descending order. Remove the duplicates from the list and print the modified list.\n"
   ]
  },
  {
   "cell_type": "code",
   "execution_count": 22,
   "id": "f237ae94",
   "metadata": {},
   "outputs": [
    {
     "name": "stdout",
     "output_type": "stream",
     "text": [
      "[14, 7, 8, 17, 20, 10, 17, 19, 5, 10, 18, 1, 8, 6]\n",
      "[1, 5, 6, 7, 8, 8, 10, 10, 14, 17, 17, 18, 19, 20]\n",
      "[20, 19, 18, 17, 17, 14, 10, 10, 8, 8, 7, 6, 5, 1]\n"
     ]
    },
    {
     "data": {
      "text/plain": [
       "[1, 5, 6, 7, 8, 10, 14, 17, 18, 19, 20]"
      ]
     },
     "execution_count": 22,
     "metadata": {},
     "output_type": "execute_result"
    }
   ],
   "source": [
    "import random\n",
    "random_num = [random.randint(1,20) for _ in range(1,15)]\n",
    "print(random_num)\n",
    "\n",
    "sort_asc = sorted(random_num,reverse=False)\n",
    "print(sort_asc)\n",
    "\n",
    "sort_des = sorted(random_num,reverse=True)\n",
    "print(sort_des)\n",
    "list(set(random_num))"
   ]
  },
  {
   "cell_type": "markdown",
   "id": "53663506",
   "metadata": {},
   "source": [
    "### Assignment 7: Nested Lists\n",
    "\n",
    "Create a nested list representing a 3x3 matrix and print the matrix. Access and print the element at the second row and third column.\n"
   ]
  },
  {
   "cell_type": "code",
   "execution_count": null,
   "id": "f297ac8d",
   "metadata": {},
   "outputs": [
    {
     "name": "stdout",
     "output_type": "stream",
     "text": [
      "Matrix:\n",
      "[1, 2, 3]\n",
      "[4, 5, 6]\n",
      "[7, 8, 9]\n",
      "6\n"
     ]
    }
   ],
   "source": [
    "matrix = [\n",
    "    [1, 2, 3],\n",
    "    [4, 5, 6],\n",
    "    [7, 8, 9]\n",
    "]\n",
    "print(\"Matrix:\")\n",
    "\n",
    "for row in matrix:\n",
    "    print(row)\n",
    "\n",
    "#second row thrid column\n",
    "print(matrix[1][2])"
   ]
  },
  {
   "cell_type": "markdown",
   "id": "6f7c37f2",
   "metadata": {},
   "source": [
    "### Assignment 8: List of Dictionaries\n",
    "\n",
    "Create a list of dictionaries where each dictionary represents a student with keys 'name' and 'score'. Sort the list of dictionaries by the 'score' in descending order and print the sorted list.\n"
   ]
  },
  {
   "cell_type": "code",
   "execution_count": 29,
   "id": "6ac0417d",
   "metadata": {},
   "outputs": [
    {
     "data": {
      "text/plain": [
       "[{'name': 'Charlie', 'score': 95},\n",
       " {'name': 'Alice', 'score': 88},\n",
       " {'name': 'Eve', 'score': 78},\n",
       " {'name': 'Bob', 'score': 72},\n",
       " {'name': 'David', 'score': 65}]"
      ]
     },
     "execution_count": 29,
     "metadata": {},
     "output_type": "execute_result"
    }
   ],
   "source": [
    "students = [\n",
    "    {'name': 'Alice', 'score': 88},\n",
    "    {'name': 'Bob', 'score': 72},\n",
    "    {'name': 'Charlie', 'score': 95},\n",
    "    {'name': 'David', 'score': 65},\n",
    "    {'name': 'Eve', 'score': 78}\n",
    "]\n",
    "\n",
    "sorted(students,key=lambda x:x['score'],reverse=True)"
   ]
  },
  {
   "cell_type": "markdown",
   "id": "80f3f39c",
   "metadata": {},
   "source": [
    "### Assignment 9: Matrix Transposition\n",
    "\n",
    "Write a function that takes a 3x3 matrix (nested list) as input and returns its transpose. Print the original and transposed matrices.\n"
   ]
  },
  {
   "cell_type": "code",
   "execution_count": 32,
   "id": "eaf1b470",
   "metadata": {},
   "outputs": [
    {
     "name": "stdout",
     "output_type": "stream",
     "text": [
      "Original matrix:\n",
      "[1, 2, 3]\n",
      "[4, 5, 6]\n",
      "[7, 8, 9]\n",
      "Transposed matrix:\n",
      "[1, 4, 7]\n",
      "[2, 5, 8]\n",
      "[3, 6, 9]\n"
     ]
    }
   ],
   "source": [
    "def transpose_matrix(matrix):\n",
    "    transposed = [[matrix[j][i] for j in range(len(matrix))] for i in range(len(matrix[0]))]\n",
    "    return transposed\n",
    "\n",
    "matrix = [\n",
    "    [1, 2, 3],\n",
    "    [4, 5, 6],\n",
    "    [7, 8, 9]\n",
    "]\n",
    "transposed = transpose_matrix(matrix)\n",
    "print(\"Original matrix:\")\n",
    "for row in matrix:\n",
    "    print(row)\n",
    "print(\"Transposed matrix:\")\n",
    "for row in transposed:\n",
    "    print(row)"
   ]
  },
  {
   "cell_type": "markdown",
   "id": "ce17739d",
   "metadata": {},
   "source": [
    "### Assignment 10: Flattening a Nested List\n",
    "\n",
    "Write a function that takes a nested list and flattens it into a single list. Print the original and flattened lists.\n"
   ]
  },
  {
   "cell_type": "code",
   "execution_count": 38,
   "id": "a59dce68",
   "metadata": {},
   "outputs": [
    {
     "name": "stdout",
     "output_type": "stream",
     "text": [
      "Original nested list:\n",
      "[[1, 2, 3], [4, 5, 6], [7, 8, 9]]\n",
      "Flattened list:\n",
      "[1, 2, 3, 4, 5, 6, 7, 8, 9]\n"
     ]
    }
   ],
   "source": [
    "def flatten_list(nested_list):\n",
    "    flat_list = [item for sublist in nested_list for item in sublist]\n",
    "    return flat_list\n",
    "\n",
    "nested_list = [\n",
    "    [1, 2, 3],\n",
    "    [4, 5, 6],\n",
    "    [7, 8, 9]\n",
    "]\n",
    "flattened = flatten_list(nested_list)\n",
    "print(\"Original nested list:\")\n",
    "print(nested_list)\n",
    "print(\"Flattened list:\")\n",
    "print(flattened)"
   ]
  },
  {
   "cell_type": "markdown",
   "id": "0461c54a",
   "metadata": {},
   "source": [
    "### Assignment 11: List Manipulation\n",
    "\n",
    "Create a list of the first 10 positive integers. Remove the elements at indices 2, 4, and 6, and insert the element '99' at index 5. Print the modified list.\n"
   ]
  },
  {
   "cell_type": "code",
   "execution_count": 40,
   "id": "8fac4746",
   "metadata": {},
   "outputs": [
    {
     "data": {
      "text/plain": [
       "[1, 2, 4, 5, 7, 99, 8, 10]"
      ]
     },
     "execution_count": 40,
     "metadata": {},
     "output_type": "execute_result"
    }
   ],
   "source": [
    "lst=list(range(1,11))\n",
    "lst\n",
    "del lst[2]\n",
    "del lst[4]\n",
    "del lst[6]\n",
    "lst.insert(5,99)\n",
    "lst"
   ]
  },
  {
   "cell_type": "markdown",
   "id": "fafb4987",
   "metadata": {},
   "source": [
    "### Assignment 12: List Zipping\n",
    "\n",
    "Create two lists of the same length. Use the `zip` function to combine these lists into a list of tuples and print the result.\n"
   ]
  },
  {
   "cell_type": "code",
   "execution_count": 43,
   "id": "887669c0",
   "metadata": {},
   "outputs": [
    {
     "data": {
      "text/plain": [
       "[(1, 4), (2, 3), (3, 2), (4, 1)]"
      ]
     },
     "execution_count": 43,
     "metadata": {},
     "output_type": "execute_result"
    }
   ],
   "source": [
    "lst1 = [1,2,3,4]\n",
    "lst2=[4,3,2,1]\n",
    "\n",
    "list(zip(lst1,lst2))"
   ]
  },
  {
   "cell_type": "markdown",
   "id": "97295b18",
   "metadata": {},
   "source": [
    "### Assignment 13: List Reversal\n",
    "\n",
    "Write a function that takes a list and returns a new list with the elements in reverse order. Print the original and reversed lists.\n"
   ]
  },
  {
   "cell_type": "code",
   "execution_count": 49,
   "id": "3d69e812",
   "metadata": {},
   "outputs": [
    {
     "name": "stdout",
     "output_type": "stream",
     "text": [
      "Original list: [1, 2, 3, 4, 5]\n",
      "Reversed list: [5, 4, 3, 2, 1]\n"
     ]
    }
   ],
   "source": [
    "def reverse_list(lst):\n",
    "    return lst[::-1]\n",
    "\n",
    "original_list = [1, 2, 3, 4, 5]\n",
    "reversed_list = reverse_list(original_list)\n",
    "print(f\"Original list: {original_list}\")\n",
    "print(f\"Reversed list: {reversed_list}\")"
   ]
  },
  {
   "cell_type": "markdown",
   "id": "7f118062",
   "metadata": {},
   "source": [
    "### Assignment 14: List Rotation\n",
    "\n",
    "Write a function that rotates a list by n positions. Print the original and rotated lists.\n"
   ]
  },
  {
   "cell_type": "code",
   "execution_count": 50,
   "id": "84c45e19",
   "metadata": {},
   "outputs": [
    {
     "name": "stdout",
     "output_type": "stream",
     "text": [
      "Original list: [1, 2, 3, 4, 5]\n",
      "Rotated list: [3, 4, 5, 1, 2]\n"
     ]
    }
   ],
   "source": [
    "def rotate_list(lst, n):\n",
    "    return lst[n:] + lst[:n]\n",
    "\n",
    "original_list = [1, 2, 3, 4, 5]\n",
    "rotated_list = rotate_list(original_list, 2)\n",
    "print(f\"Original list: {original_list}\")\n",
    "print(f\"Rotated list: {rotated_list}\")"
   ]
  },
  {
   "cell_type": "markdown",
   "id": "bd191784",
   "metadata": {},
   "source": [
    "\n",
    "### Assignment 15: List Intersection\n",
    "\n",
    "Write a function that takes two lists and returns a new list containing only the elements that are present in both lists. Print the intersected list."
   ]
  },
  {
   "cell_type": "code",
   "execution_count": 51,
   "metadata": {},
   "outputs": [
    {
     "name": "stdout",
     "output_type": "stream",
     "text": [
      "List 1: [1, 2, 3, 4, 5]\n",
      "List 2: [3, 4, 5, 6, 7]\n",
      "Intersection: [3, 4, 5]\n"
     ]
    }
   ],
   "source": [
    "def list_intersection(lst1, lst2):\n",
    "    return [x for x in lst1 if x in lst2]\n",
    "\n",
    "list1 = [1, 2, 3, 4, 5]\n",
    "list2 = [3, 4, 5, 6, 7]\n",
    "intersection = list_intersection(list1, list2)\n",
    "print(f\"List 1: {list1}\")\n",
    "print(f\"List 2: {list2}\")\n",
    "print(f\"Intersection: {intersection}\")"
   ]
  },
  {
   "cell_type": "code",
   "execution_count": null,
   "id": "527a21f9",
   "metadata": {},
   "outputs": [],
   "source": []
  }
 ],
 "metadata": {
  "kernelspec": {
   "display_name": "Python 3",
   "language": "python",
   "name": "python3"
  },
  "language_info": {
   "codemirror_mode": {
    "name": "ipython",
    "version": 3
   },
   "file_extension": ".py",
   "mimetype": "text/x-python",
   "name": "python",
   "nbconvert_exporter": "python",
   "pygments_lexer": "ipython3",
   "version": "3.12.0"
  }
 },
 "nbformat": 4,
 "nbformat_minor": 5
}
